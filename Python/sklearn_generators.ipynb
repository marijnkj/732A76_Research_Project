{
 "cells": [
  {
   "cell_type": "code",
   "execution_count": null,
   "metadata": {},
   "outputs": [],
   "source": [
    "import pandas as pd\n",
    "import numpy as np\n",
    "import pyarrow.parquet as pq\n",
    "from sklearn.linear_model import SGDClassifier, SGDRegressor\n",
    "from sklearn.cluster import MiniBatchKMeans\n",
    "from time import perf_counter\n",
    "import os\n",
    "\n",
    "data_path = os.getcwd()[:-6] + \"Data\\\\\"\n",
    "\n",
    "res = np.zeros((3, 3, 10)) # Size, model, iteration\n",
    "for i in range(10):\n",
    "    for j, size in enumerate([\"small\", \"medium\", \"large\"]):\n",
    "        # https://arrow.apache.org/docs/python/generated/pyarrow.parquet.ParquetDataset.html#pyarrow.parquet.ParquetDataset.files\n",
    "        pqt_files = pq.ParquetDataset(data_path + f\"{size}.parquet\").files\n",
    "\n",
    "        lin_reg = SGDRegressor(loss=\"squared_error\")\n",
    "        log_reg = SGDClassifier(loss=\"log_loss\")\n",
    "        kmeans = MiniBatchKMeans(n_clusters=2)\n",
    "\n",
    "        # Linear regression\n",
    "        start_time = perf_counter()\n",
    "        for pqt_file in pqt_files:\n",
    "            batch = pd.read_parquet(pqt_file)\n",
    "            X = batch.loc[:, batch.columns != \"label\"]\n",
    "            y = batch.loc[:, \"label\"]\n",
    "\n",
    "            # https://scikit-learn.org/stable/modules/generated/sklearn.linear_model.SGDRegressor.html\n",
    "            lin_reg.partial_fit(X, y)\n",
    "\n",
    "        end_time = perf_counter()\n",
    "        res[j, 0, i] = end_time - start_time\n",
    "            \n",
    "        # Logistic regression\n",
    "        start_time = perf_counter()    \n",
    "        for pqt_file in pqt_files:\n",
    "            # https://scikit-learn.org/stable/modules/generated/sklearn.linear_model.SGDClassifier.html\n",
    "            log_reg.partial_fit(X, y, [0, 1])\n",
    "\n",
    "        end_time = perf_counter()\n",
    "        res[j, 1, i] = end_time - start_time\n",
    "\n",
    "        # K-Means\n",
    "        start_time = perf_counter()    \n",
    "        for pqt_file in pqt_files:\n",
    "            # https://scikit-learn.org/stable/modules/generated/sklearn.cluster.MiniBatchKMeans.html#sklearn.cluster.MiniBatchKMeans\n",
    "            kmeans.partial_fit(batch.loc[:, batch.columns != \"label\"])\n",
    "        \n",
    "        end_time = perf_counter()\n",
    "        res[j, 2, i] = end_time - start_time\n",
    "        "
   ]
  },
  {
   "cell_type": "code",
   "execution_count": null,
   "metadata": {},
   "outputs": [],
   "source": [
    "for i in range(3):\n",
    "    size = [\"small\", \"medium\", \"large\"][i]\n",
    "    print(size)\n",
    "    for j in range(3):\n",
    "        model = [\"linear regression\", \"logistic regression\", \"k-means\"][j]\n",
    "        print(f\"{model}: {res[i, j, :].mean():.3f}\")"
   ]
  },
  {
   "cell_type": "code",
   "execution_count": null,
   "metadata": {},
   "outputs": [],
   "source": []
  }
 ],
 "metadata": {
  "kernelspec": {
   "display_name": "research_project_sklearn",
   "language": "python",
   "name": "python3"
  },
  "language_info": {
   "codemirror_mode": {
    "name": "ipython",
    "version": 3
   },
   "file_extension": ".py",
   "mimetype": "text/x-python",
   "name": "python",
   "nbconvert_exporter": "python",
   "pygments_lexer": "ipython3",
   "version": "3.13.1"
  }
 },
 "nbformat": 4,
 "nbformat_minor": 2
}
